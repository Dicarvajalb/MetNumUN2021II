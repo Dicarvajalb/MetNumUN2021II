{
  "nbformat": 4,
  "nbformat_minor": 0,
  "metadata": {
    "colab": {
      "name": "dicarvajalbTutorial3.ipynb",
      "provenance": [],
      "collapsed_sections": [],
      "include_colab_link": true
    },
    "kernelspec": {
      "name": "python3",
      "display_name": "Python 3"
    }
  },
  "cells": [
    {
      "cell_type": "markdown",
      "metadata": {
        "id": "view-in-github",
        "colab_type": "text"
      },
      "source": [
        "<a href=\"https://colab.research.google.com/github/Dicarvajalb/MetNumUN2021II/blob/main/LAB1/03_Functions_and_Objective_Oriented_Programming.ipynb\" target=\"_parent\"><img src=\"https://colab.research.google.com/assets/colab-badge.svg\" alt=\"Open In Colab\"/></a>"
      ]
    },
    {
      "cell_type": "markdown",
      "metadata": {
        "id": "RyZGot1BeaG9"
      },
      "source": [
        "**Introduction to financial python**\n",
        "---\n",
        "Functions and Objective-Oriented Programming\n",
        "\n",
        "\n",
        "\n",
        "---\n",
        "\n",
        "**Introduction**\n",
        "\n",
        "In the last tutorial we introduced logical operations, loops and list comprehension. We will introduce functions and object-oriented programming in this chapter, which will enable us to build complex algorithms in more flexible ways.\n",
        "\n",
        "**Functions**\n",
        "\n",
        "A function is a reusable block of code. We can use a function to output a value, or do anything else we want. We can easily define our own function by using the keyword \"def\".\n"
      ]
    },
    {
      "cell_type": "code",
      "metadata": {
        "colab": {
          "base_uri": "https://localhost:8080/"
        },
        "id": "09zPbB-seA90",
        "outputId": "36c19136-f157-4991-e091-74031e04927b"
      },
      "source": [
        "def product(x,y):\n",
        "    return x*y\n",
        "print (product(2,3))\n",
        "print (product(5,10))"
      ],
      "execution_count": null,
      "outputs": [
        {
          "output_type": "stream",
          "text": [
            "6\n",
            "50\n"
          ],
          "name": "stdout"
        }
      ]
    },
    {
      "cell_type": "code",
      "metadata": {
        "colab": {
          "base_uri": "https://localhost:8080/"
        },
        "id": "-qQ6JX8MxQmH",
        "outputId": "952fdf7b-ef8a-4575-c05a-d816a3f5a246"
      },
      "source": [
        "def sum(x,y): #dicarvajalb\n",
        "    return x+y\n",
        "print (sum(2,3))\n",
        "print (sum(5,10))"
      ],
      "execution_count": null,
      "outputs": [
        {
          "output_type": "stream",
          "text": [
            "5\n",
            "15\n"
          ],
          "name": "stdout"
        }
      ]
    },
    {
      "cell_type": "markdown",
      "metadata": {
        "id": "A_ATROlsf2Yj"
      },
      "source": [
        "The keyword \"def\" is followed by the function name and the parenthesized list of formal parameters. The statements that form the body of the function start at the next line, and must be indented. The product() function above has \"x\" and \"y\" as its parameters. A function doesn't necessarily have parameters:"
      ]
    },
    {
      "cell_type": "code",
      "metadata": {
        "colab": {
          "base_uri": "https://localhost:8080/"
        },
        "id": "NgtEpftbfxOI",
        "outputId": "8ecadcdc-990f-4ea7-8a93-8dde624b3103"
      },
      "source": [
        "def say_hi():\n",
        "    print(\"Welcome to QuantConnect\") \n",
        "    print(\"Hello world\") #dicarvajalb\n",
        "say_hi()"
      ],
      "execution_count": 1,
      "outputs": [
        {
          "output_type": "stream",
          "name": "stdout",
          "text": [
            "Welcome to QuantConnect\n",
            "Hello world\n"
          ]
        }
      ]
    },
    {
      "cell_type": "markdown",
      "metadata": {
        "id": "WhsdiKC-gD1Z"
      },
      "source": [
        "**Built-In Function**\n",
        "\n",
        "range() is a function that creates a list containing an arithmetic sequence. It's often used in for loops. The arguments must be integers. If the \"step\" argument is omitted, it defaults to 1."
      ]
    },
    {
      "cell_type": "code",
      "metadata": {
        "colab": {
          "base_uri": "https://localhost:8080/"
        },
        "id": "SdSk3co0f8zg",
        "outputId": "186fa892-2fc7-40df-d85e-f3d6f49d76f3"
      },
      "source": [
        "print (range(10))\n",
        "print (range(1, 11))\n",
        "print (range(1, 11, 2))  \n",
        "print (range(1, 1333, 2))  #dicarvajalb"
      ],
      "execution_count": 2,
      "outputs": [
        {
          "output_type": "stream",
          "name": "stdout",
          "text": [
            "range(0, 10)\n",
            "range(1, 11)\n",
            "range(1, 11, 2)\n",
            "range(1, 1333, 2)\n"
          ]
        }
      ]
    },
    {
      "cell_type": "markdown",
      "metadata": {
        "id": "7XLrx_JYgR-6"
      },
      "source": [
        "len() is another function used together with range() to create a for loop. This function returns the length of an object. The argument must be a sequence or a collection."
      ]
    },
    {
      "cell_type": "code",
      "metadata": {
        "colab": {
          "base_uri": "https://localhost:8080/"
        },
        "id": "6-IksRRxgSjS",
        "outputId": "bd1d1198-f7bd-4107-9ca0-aa54497644bd"
      },
      "source": [
        "tickers = ['AAPL', 'GOOGL', 'IBM', 'FB', 'F', 'V', 'G', 'GE', \"GEGE\"] #dicarvajalb\n",
        "print (\"The number of tickers is {}\".format(len(tickers)))\n",
        "for k in range(len(tickers)):\n",
        "    print (k + 1, tickers[k])"
      ],
      "execution_count": 3,
      "outputs": [
        {
          "output_type": "stream",
          "name": "stdout",
          "text": [
            "The number of tickers is 9\n",
            "1 AAPL\n",
            "2 GOOGL\n",
            "3 IBM\n",
            "4 FB\n",
            "5 F\n",
            "6 V\n",
            "7 G\n",
            "8 GE\n",
            "9 GEGE\n"
          ]
        }
      ]
    },
    {
      "cell_type": "markdown",
      "metadata": {
        "id": "KQz2JzVKgar7"
      },
      "source": [
        "Note: If you want to print only the tickers without those numbers, then simply write \"for ticker in tickers: print ticker\"\n",
        "\n",
        "map() is a function that applies a specific function to every item of a sequence or collection, and returns a list of the results."
      ]
    },
    {
      "cell_type": "code",
      "metadata": {
        "colab": {
          "base_uri": "https://localhost:8080/"
        },
        "id": "HBVrf6AOgd14",
        "outputId": "6c5adaf6-d624-41e9-ea20-e513e01127cc"
      },
      "source": [
        "tickers = ['AAPL','GOOG','IBM','FB','F','V', 'G', 'GE']\n",
        "print(list(map(len,tickers)))"
      ],
      "execution_count": 4,
      "outputs": [
        {
          "output_type": "stream",
          "name": "stdout",
          "text": [
            "[4, 4, 3, 2, 1, 1, 1, 2]\n"
          ]
        }
      ]
    },
    {
      "cell_type": "markdown",
      "metadata": {
        "id": "ppm-RAQFgvXK"
      },
      "source": [
        "The lambda operator is a way to create small anonymous functions. These functions are just needed where they have been created. For example:"
      ]
    },
    {
      "cell_type": "code",
      "metadata": {
        "colab": {
          "base_uri": "https://localhost:8080/"
        },
        "id": "x-iwu12zgw-6",
        "outputId": "227ec284-efc0-4c96-b41b-660f329015da"
      },
      "source": [
        "F = list(map(lambda x: x**2,range(10)))\n",
        "print(F)"
      ],
      "execution_count": 5,
      "outputs": [
        {
          "output_type": "stream",
          "name": "stdout",
          "text": [
            "[0, 1, 4, 9, 16, 25, 36, 49, 64, 81]\n"
          ]
        }
      ]
    },
    {
      "cell_type": "markdown",
      "metadata": {
        "id": "3KQGJ1Uyh5pt"
      },
      "source": [
        "map() can be applied to more than one list. The lists have to have the same length."
      ]
    },
    {
      "cell_type": "code",
      "metadata": {
        "colab": {
          "base_uri": "https://localhost:8080/"
        },
        "id": "PnKv8pU3h6OC",
        "outputId": "344bdd91-8c05-44cd-eb86-0306e3db52f4"
      },
      "source": [
        "trick = list(map(lambda x, y: x+y, [1,2,3,4,5], [5,4,3,2,1]))\n",
        "print(trick)"
      ],
      "execution_count": 6,
      "outputs": [
        {
          "output_type": "stream",
          "name": "stdout",
          "text": [
            "[6, 6, 6, 6, 6]\n"
          ]
        }
      ]
    },
    {
      "cell_type": "markdown",
      "metadata": {
        "id": "0l269FVUiHuR"
      },
      "source": [
        "sorted() takes a list or set and returns a new sorted list:"
      ]
    },
    {
      "cell_type": "code",
      "metadata": {
        "colab": {
          "base_uri": "https://localhost:8080/"
        },
        "id": "e5CjZ1qRiJ1y",
        "outputId": "692313c5-0337-42a4-c7d1-8b989ffa9355"
      },
      "source": [
        "sorted([5,2,3,4,1])"
      ],
      "execution_count": 7,
      "outputs": [
        {
          "output_type": "execute_result",
          "data": {
            "text/plain": [
              "[1, 2, 3, 4, 5]"
            ]
          },
          "metadata": {},
          "execution_count": 7
        }
      ]
    },
    {
      "cell_type": "markdown",
      "metadata": {
        "id": "3q368QyjiNnb"
      },
      "source": [
        "We can add a \"key\" parameter to specify a function to be called on each list element prior to making comparisons. For example:"
      ]
    },
    {
      "cell_type": "code",
      "metadata": {
        "colab": {
          "base_uri": "https://localhost:8080/"
        },
        "id": "EVqbAJ-OiQrS",
        "outputId": "3b3cccf0-bb1d-4b76-b377-a827183a033a"
      },
      "source": [
        "price_list = [('AAPL', 144.09), ('GOOGL', 911.71), ('MSFT', 69), ('FB', 150), ('WMT', 75.32)]\n",
        "sorted(price_list, key = lambda x: x[1])"
      ],
      "execution_count": 8,
      "outputs": [
        {
          "output_type": "execute_result",
          "data": {
            "text/plain": [
              "[('MSFT', 69),\n",
              " ('WMT', 75.32),\n",
              " ('AAPL', 144.09),\n",
              " ('FB', 150),\n",
              " ('GOOGL', 911.71)]"
            ]
          },
          "metadata": {},
          "execution_count": 8
        }
      ]
    },
    {
      "cell_type": "markdown",
      "metadata": {
        "id": "N9tOfmWciUCD"
      },
      "source": [
        "By default the values are sorted by ascending order. We can change it to descending by adding an optional parameter \"reverse'."
      ]
    },
    {
      "cell_type": "code",
      "metadata": {
        "colab": {
          "base_uri": "https://localhost:8080/"
        },
        "id": "PXX_UPJyiWLt",
        "outputId": "021c5774-2b34-45b3-d978-7e95ce05c19a"
      },
      "source": [
        "price_list = [('AAPL', 144.09), ('GOOGL', 911.71), ('MSFT', 69), ('FB', 150), ('WMT', 75.32)]\n",
        "sorted(price_list, key = lambda x: x[1], reverse = True)"
      ],
      "execution_count": 9,
      "outputs": [
        {
          "output_type": "execute_result",
          "data": {
            "text/plain": [
              "[('GOOGL', 911.71),\n",
              " ('FB', 150),\n",
              " ('AAPL', 144.09),\n",
              " ('WMT', 75.32),\n",
              " ('MSFT', 69)]"
            ]
          },
          "metadata": {},
          "execution_count": 9
        }
      ]
    },
    {
      "cell_type": "markdown",
      "metadata": {
        "id": "pIC1IqixiZsC"
      },
      "source": [
        "Lists also have a function list.sort(). This function takes the same \"key\" and \"reverse\" arguments as sorted(), but it doesn't return a new list."
      ]
    },
    {
      "cell_type": "code",
      "metadata": {
        "colab": {
          "base_uri": "https://localhost:8080/"
        },
        "id": "VQc4QnydicLy",
        "outputId": "03ee36df-4ec0-4a0b-ab83-15189005c8b9"
      },
      "source": [
        "price_list = [('AAPL', 144.09), ('GOOGL', 911.71), ('MSFT', 69), ('FB', 150), ('WMT', 75.32)]\n",
        "price_list.sort(key = lambda x: x[1])\n",
        "print (price_list)"
      ],
      "execution_count": 10,
      "outputs": [
        {
          "output_type": "stream",
          "name": "stdout",
          "text": [
            "[('MSFT', 69), ('WMT', 75.32), ('AAPL', 144.09), ('FB', 150), ('GOOGL', 911.71)]\n"
          ]
        }
      ]
    },
    {
      "cell_type": "markdown",
      "metadata": {
        "id": "YOHGwKKxih8c"
      },
      "source": [
        "**Object-Oriented Programming**\n",
        "---\n",
        "\n",
        "Python is an object-oriented programming language. It's important to understand the concept of \"objects\" because almost every kind of data from QuantConnect API is an object.\n",
        "\n",
        "*Class*\n",
        "\n",
        "A class is a type of data, just like a string, float, or list. When we create an object of that data type, we call it an instance of a class.\n",
        "\n",
        "In Python, everything is an object - everything is an instance of some class. The data stored inside an object are called attributes, and the functions which are associated with the object are called methods.\n",
        "\n",
        "For example, as mentioned above, a list is an object of the \"list\" class, and it has a method list.sort().\n",
        "\n",
        "We can create our own objects by defining a class. We would do this when it's helpful to group certain functions together. For example, we define a class named \"Stock\" here:"
      ]
    },
    {
      "cell_type": "code",
      "metadata": {
        "id": "W_nAT5hTivR9"
      },
      "source": [
        "class Stock:\n",
        "    def __init__(self, ticker, open, close, volume):\n",
        "        self.ticker = ticker\n",
        "        self.open = open\n",
        "        self.close = close\n",
        "        self.volume = volume\n",
        "        self.rate_return = float(close)/open - 1\n",
        "\n",
        "    def update(self, open, close):\n",
        "        self.open = open\n",
        "        self.close = close\n",
        "        self.rate_return = float(self.close)/self.open - 1\n",
        "\n",
        "    def print_return(self):\n",
        "        print (self.rate_return)\n",
        "    def print_volume(self): #dicarvajalb\n",
        "        print (self.volume)"
      ],
      "execution_count": 12,
      "outputs": []
    },
    {
      "cell_type": "markdown",
      "metadata": {
        "id": "usPdVWIciyzs"
      },
      "source": [
        "The \"Stock\" class has attributes \"ticker\", \"open\", \"close\", \"volume\" and \"rate_return\". Inside the class body, the first method is called __ init__, which is a special method. When we create a new instance of the class, the __ init__** method is immediately executed with all the parameters that we pass to the \"Stock\" object. The purpose of this method is to set up a new \"Stock\" object using data we have provided.\n",
        "\n",
        "Here we create two Stock objects named \"apple\" and \"google\"."
      ]
    },
    {
      "cell_type": "code",
      "metadata": {
        "id": "PBGu1EhjjNSw"
      },
      "source": [
        "apple  = Stock('AAPL', 143.69, 144.09, 20109375)\n",
        "google = Stock('GOOGL', 898.7, 911.7, 1561616)"
      ],
      "execution_count": 13,
      "outputs": []
    },
    {
      "cell_type": "markdown",
      "metadata": {
        "id": "wTKyTBVEjQTn"
      },
      "source": [
        "Stock objects also have two other methods: update() and print_return(). We can access the attribues of a Stock object and call its methods:"
      ]
    },
    {
      "cell_type": "code",
      "metadata": {
        "colab": {
          "base_uri": "https://localhost:8080/"
        },
        "id": "eE_rW01ijRAK",
        "outputId": "7889f8b1-8cdc-459c-d0e6-c3f1cc3ef594"
      },
      "source": [
        "apple.ticker\n",
        "google.print_return()\n",
        "google.update(912.8,913.4)\n",
        "google.print_return()\n",
        "google.print_volume() #dicarvajalb"
      ],
      "execution_count": 16,
      "outputs": [
        {
          "output_type": "stream",
          "name": "stdout",
          "text": [
            "0.0006573181419806673\n",
            "0.0006573181419806673\n",
            "1561616\n"
          ]
        }
      ]
    },
    {
      "cell_type": "markdown",
      "metadata": {
        "id": "HDeEYtIdjZRX"
      },
      "source": [
        "By calling the update() function, we updated the open and close prices of a stock. Please note that when we use the attributes or call the methods inside a class, we need to specify them as self.attribute or self.method(), otherwise Python will deem them as global variables and thus raise an error.\n",
        "\n",
        "We can add an attribute to an object anywhere:"
      ]
    },
    {
      "cell_type": "code",
      "metadata": {
        "colab": {
          "base_uri": "https://localhost:8080/",
          "height": 35
        },
        "id": "ty3GZLgGjYKU",
        "outputId": "a52fd817-68ee-4ca4-8514-ca578f674442"
      },
      "source": [
        "apple.ceo = 'Tim Cook'\n",
        "apple.ceo"
      ],
      "execution_count": 17,
      "outputs": [
        {
          "output_type": "execute_result",
          "data": {
            "application/vnd.google.colaboratory.intrinsic+json": {
              "type": "string"
            },
            "text/plain": [
              "'Tim Cook'"
            ]
          },
          "metadata": {},
          "execution_count": 17
        }
      ]
    },
    {
      "cell_type": "markdown",
      "metadata": {
        "id": "1mb5MkRojjCk"
      },
      "source": [
        "We can check what names (i.e. attributes and methods) are defined on an object using the dir() function:"
      ]
    },
    {
      "cell_type": "code",
      "metadata": {
        "colab": {
          "base_uri": "https://localhost:8080/"
        },
        "id": "KGQIWE06jlb5",
        "outputId": "1558ac20-39f9-4953-e895-0f42b12698cc"
      },
      "source": [
        "dir(apple)"
      ],
      "execution_count": 18,
      "outputs": [
        {
          "output_type": "execute_result",
          "data": {
            "text/plain": [
              "['__class__',\n",
              " '__delattr__',\n",
              " '__dict__',\n",
              " '__dir__',\n",
              " '__doc__',\n",
              " '__eq__',\n",
              " '__format__',\n",
              " '__ge__',\n",
              " '__getattribute__',\n",
              " '__gt__',\n",
              " '__hash__',\n",
              " '__init__',\n",
              " '__init_subclass__',\n",
              " '__le__',\n",
              " '__lt__',\n",
              " '__module__',\n",
              " '__ne__',\n",
              " '__new__',\n",
              " '__reduce__',\n",
              " '__reduce_ex__',\n",
              " '__repr__',\n",
              " '__setattr__',\n",
              " '__sizeof__',\n",
              " '__str__',\n",
              " '__subclasshook__',\n",
              " '__weakref__',\n",
              " 'ceo',\n",
              " 'close',\n",
              " 'open',\n",
              " 'print_return',\n",
              " 'print_volume',\n",
              " 'rate_return',\n",
              " 'ticker',\n",
              " 'update',\n",
              " 'volume']"
            ]
          },
          "metadata": {},
          "execution_count": 18
        }
      ]
    },
    {
      "cell_type": "markdown",
      "metadata": {
        "id": "I2X3AUE4jodb"
      },
      "source": [
        "*Inheritance*\n",
        "\n",
        "Inheritance is a way of arranging classes in a hierarchy from the most general to the most specific. A \"child\" class is a more specific type of a \"parent\" class because a child class will inherit all the attribues and methods of its parent. For example, we define a class named \"Child\" which inherits \"Stock\":"
      ]
    },
    {
      "cell_type": "code",
      "metadata": {
        "id": "WA5iBKHBjtR2"
      },
      "source": [
        "class Child(Stock):\n",
        "    def __init__(self, name):\n",
        "        self.name = name"
      ],
      "execution_count": 19,
      "outputs": []
    },
    {
      "cell_type": "markdown",
      "metadata": {
        "id": "l1FVrXdJjssT"
      },
      "source": [
        "Then we create an object:"
      ]
    },
    {
      "cell_type": "code",
      "metadata": {
        "colab": {
          "base_uri": "https://localhost:8080/"
        },
        "id": "0RuDsZXujxG-",
        "outputId": "a938224b-7b56-4655-f61f-3fa6a6be45dd"
      },
      "source": [
        "aa = Child('AA')\n",
        "print (aa.name)\n",
        "aa.update(100, 102)\n",
        "print (aa.open)\n",
        "print (aa.close)\n",
        "print (aa.print_return())"
      ],
      "execution_count": 20,
      "outputs": [
        {
          "output_type": "stream",
          "name": "stdout",
          "text": [
            "AA\n",
            "100\n",
            "102\n",
            "0.020000000000000018\n",
            "None\n"
          ]
        }
      ]
    },
    {
      "cell_type": "code",
      "metadata": {
        "colab": {
          "base_uri": "https://localhost:8080/"
        },
        "id": "NKiurmcC0zrF",
        "outputId": "d04ea7a4-6bd8-4edb-eda2-88c195dd0646"
      },
      "source": [
        "apple  = Stock('AAPL', 143.69, 144.09, 20109375) #Dicarvajalb\n",
        "aa = apple\n",
        "print (aa.open)\n",
        "print (aa.close)\n",
        "print (aa.print_return())"
      ],
      "execution_count": 21,
      "outputs": [
        {
          "output_type": "stream",
          "name": "stdout",
          "text": [
            "143.69\n",
            "144.09\n",
            "0.0027837706173012844\n",
            "None\n"
          ]
        }
      ]
    },
    {
      "cell_type": "markdown",
      "metadata": {
        "id": "HRlajRqkj9WC"
      },
      "source": [
        "As seen above, the new class Child has inherited the methods from Stock.\n",
        "\n",
        "**Summary**\n",
        "---\n",
        "\n",
        "In this chapter we have introduced functions and classes. When we write a QuantConnect algorithm, we would define our algorithm as a class (QCAlgorithm). This means our algorithm inherited the QC API methods from QCAlgorithm class.\n",
        "\n",
        "In the next chapter, we will introduce NumPy and Pandas, which enable us to conduct scientific calculations in Python."
      ]
    }
  ]
}