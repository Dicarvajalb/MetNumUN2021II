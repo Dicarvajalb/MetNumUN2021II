{
  "nbformat": 4,
  "nbformat_minor": 0,
  "metadata": {
    "colab": {
      "name": "grupo8SymPyLab.ipynb",
      "provenance": [],
      "collapsed_sections": [],
      "include_colab_link": true
    },
    "kernelspec": {
      "name": "python3",
      "display_name": "Python 3"
    }
  },
  "cells": [
    {
      "cell_type": "markdown",
      "metadata": {
        "id": "view-in-github",
        "colab_type": "text"
      },
      "source": [
        "<a href=\"https://colab.research.google.com/github/Dicarvajalb/MetNumUN2021II/blob/main/LAB3/grupo8SymPyLab.ipynb\" target=\"_parent\"><img src=\"https://colab.research.google.com/assets/colab-badge.svg\" alt=\"Open In Colab\"/></a>"
      ]
    },
    {
      "cell_type": "markdown",
      "metadata": {
        "id": "vtY1shFnMal_"
      },
      "source": [
        "# SymPyLab\n",
        "\n",
        "SymPy’s documentation\n",
        "- https://docs.sympy.org/latest/index.html\n"
      ]
    },
    {
      "cell_type": "markdown",
      "metadata": {
        "id": "2U0fAIf5G4rR"
      },
      "source": [
        "## SymPy’s polynomials \n",
        "- https://docs.sympy.org/latest/modules/polys/basics.html#polynomials \n",
        "\n",
        "- (x-1)(x-2)(x-3)(x-4)(x-5) = x^5 - 15 x^4  + 85 x^3 - 225 x^2 + 274 x - 120\n",
        "\n",
        "- (x^5 - 15 x^4  + 85 x^3 - 225 x^2 + 274 x - 120) / (x-1) = x^4  - 14 x^3  + 71 x^2  - 154 x + 120"
      ]
    },
    {
      "cell_type": "markdown",
      "metadata": {
        "id": "GSRpl42A6UXg"
      },
      "source": [
        "<img src=\"https://raw.githubusercontent.com/gjhernandezp/algorithms/master/SymPyLab/sympylabwolfram1.jpg\" /> <img src=\"https://raw.githubusercontent.com/gjhernandezp/algorithms/master/SymPyLab/sympylabwolfram3.jpg\" />\n"
      ]
    },
    {
      "cell_type": "code",
      "metadata": {
        "id": "Fw1yPZWLMb5P",
        "colab": {
          "base_uri": "https://localhost:8080/"
        },
        "outputId": "fb7902ef-a33c-4ffa-8621-4aebd19bdc1b"
      },
      "source": [
        "from sympy import Symbol\n",
        "from sympy import div\n",
        "\n",
        "x = Symbol('x')\n",
        "\n",
        "p = x**5 - 15*x**4  + 85*x**3 - 225*x**2 + 274*x - 120\n",
        "\n",
        "p, r = div(p,  x-1)\n",
        "\n",
        "print(p)\n",
        "print(r)\n",
        "\n",
        "p, r = div(p,  x-2)\n",
        "\n",
        "print(p)\n",
        "print(r)\n",
        "\n",
        "p, r = div(p,  x-3)\n",
        "\n",
        "print(p)\n",
        "print(r)\n",
        "\n",
        "p, r = div(p,  x-4)\n",
        "\n",
        "print(p)\n",
        "print(r)\n",
        "\n"
      ],
      "execution_count": null,
      "outputs": [
        {
          "output_type": "stream",
          "name": "stdout",
          "text": [
            "x**4 - 14*x**3 + 71*x**2 - 154*x + 120\n",
            "0\n",
            "x**3 - 12*x**2 + 47*x - 60\n",
            "0\n",
            "x**2 - 9*x + 20\n",
            "0\n",
            "x - 5\n",
            "0\n"
          ]
        }
      ]
    },
    {
      "cell_type": "markdown",
      "metadata": {
        "id": "aYAKRISoJgBq"
      },
      "source": [
        "Espacio para imagenes 1 y 2\n",
        "\n",
        "<img src=\"https://raw.githubusercontent.com/Dicarvajalb/MetNumUN2021II/main/LAB3/sympy1.jpeg\" /> \n",
        "<img src=\"https://raw.githubusercontent.com/Dicarvajalb/MetNumUN2021II/main/LAB3/sympy2.jpeg\" />"
      ]
    },
    {
      "cell_type": "code",
      "metadata": {
        "colab": {
          "base_uri": "https://localhost:8080/"
        },
        "id": "mQ3M55nDEEya",
        "outputId": "5730fedd-5e50-4caa-a988-8883a7515186"
      },
      "source": [
        "#ejemplo 1\n",
        "from sympy import Symbol\n",
        "from sympy import div\n",
        "\n",
        "x = Symbol('x')\n",
        "\n",
        "p = x**5 + 15*x**4  - 67*x**3 - 1071*x**2 - 270*x + 10800\n",
        "print(p)\n",
        "\n",
        "p, r = div(p,  x-1)\n",
        "\n",
        "print(p)\n",
        "print(r)\n",
        "\n",
        "p, r = div(p,  x-2)\n",
        "\n",
        "print(p)\n",
        "print(r)\n",
        "\n",
        "p, r = div(p,  x-3)\n",
        "\n",
        "print(p)\n",
        "print(r)\n",
        "\n",
        "p, r = div(p,  x-4)\n",
        "\n",
        "print(p)\n",
        "print(r)\n"
      ],
      "execution_count": null,
      "outputs": [
        {
          "output_type": "stream",
          "name": "stdout",
          "text": [
            "x**5 + 15*x**4 - 67*x**3 - 1071*x**2 - 270*x + 10800\n",
            "x**4 + 16*x**3 - 51*x**2 - 1122*x - 1392\n",
            "9408\n",
            "x**3 + 18*x**2 - 15*x - 1152\n",
            "-3696\n",
            "x**2 + 21*x + 48\n",
            "-1008\n",
            "x + 25\n",
            "148\n"
          ]
        }
      ]
    },
    {
      "cell_type": "code",
      "metadata": {
        "colab": {
          "base_uri": "https://localhost:8080/"
        },
        "id": "gQ-VwywTarYw",
        "outputId": "bb5ea56c-21e7-4b1e-d157-1e08507eae57"
      },
      "source": [
        "p = x**5 - 15*x**4  + 85*x**3 - 225*x**2 + 274*x - 120\n",
        "\n",
        "p, r = div(p,  x-6)\n",
        "\n",
        "print(p)\n",
        "print(r)"
      ],
      "execution_count": null,
      "outputs": [
        {
          "output_type": "stream",
          "name": "stdout",
          "text": [
            "x**4 - 9*x**3 + 31*x**2 - 39*x + 40\n",
            "120\n"
          ]
        }
      ]
    },
    {
      "cell_type": "code",
      "metadata": {
        "colab": {
          "base_uri": "https://localhost:8080/"
        },
        "id": "orKG3aAOHbYq",
        "outputId": "1e34c19b-4567-467b-eeec-abeaec3b0a2a"
      },
      "source": [
        "#ejemplo 2\n",
        "p = p = x**5 + 15*x**4  - 67*x**3 - 1071*x**2 - 270*x - 10800\n",
        "\n",
        "p, r = div(p,  x-6)\n",
        "\n",
        "print(p)\n",
        "print(r)"
      ],
      "execution_count": null,
      "outputs": [
        {
          "output_type": "stream",
          "name": "stdout",
          "text": [
            "x**4 + 21*x**3 + 59*x**2 - 717*x - 4572\n",
            "-38232\n"
          ]
        }
      ]
    },
    {
      "cell_type": "markdown",
      "metadata": {
        "id": "LrP1xT6VKZrE"
      },
      "source": [
        "## SymPy’s polynomial simple univariate polynomial factorization\n",
        "- https://docs.sympy.org/latest/modules/polys/wester.html#simple-univariate-polynomial-factorization\n",
        "- factor(x\\*\\*5 - 15\\*x\\*\\*4  + 85\\*x\\*\\*3 - 225\\*x\\*\\*2 + 274\\*x - 120)"
      ]
    },
    {
      "cell_type": "markdown",
      "metadata": {
        "id": "2NPChCoPLsls"
      },
      "source": [
        "<img src=\"https://raw.githubusercontent.com/gjhernandezp/algorithms/master/SymPyLab/sympylabwolfram4.jpg\" />\n"
      ]
    },
    {
      "cell_type": "code",
      "metadata": {
        "id": "i2vHjXOIKvQu",
        "colab": {
          "base_uri": "https://localhost:8080/",
          "height": 39
        },
        "outputId": "19fce63c-a15a-4e9b-f059-df47332723e0"
      },
      "source": [
        "from sympy import Symbol,factor\n",
        "x = Symbol('x')\n",
        "factor(x**5 - 15*x**4  + 85*x**3 - 225*x**2 + 274*x - 120)"
      ],
      "execution_count": null,
      "outputs": [
        {
          "output_type": "execute_result",
          "data": {
            "text/latex": "$\\displaystyle \\left(x - 5\\right) \\left(x - 4\\right) \\left(x - 3\\right) \\left(x - 2\\right) \\left(x - 1\\right)$",
            "text/plain": [
              "(x - 5)*(x - 4)*(x - 3)*(x - 2)*(x - 1)"
            ]
          },
          "metadata": {},
          "execution_count": 3
        }
      ]
    },
    {
      "cell_type": "markdown",
      "metadata": {
        "id": "29ojdNUGSgjQ"
      },
      "source": [
        "espacio para imagen \n",
        "\n",
        "\n",
        "<img src=\"https://raw.githubusercontent.com/Dicarvajalb/MetNumUN2021II/main/LAB3/sympy3.jpeg\" />\n"
      ]
    },
    {
      "cell_type": "code",
      "metadata": {
        "id": "9QkKAwTKKz6C"
      },
      "source": [
        "espacio para imagen"
      ],
      "execution_count": null,
      "outputs": []
    },
    {
      "cell_type": "code",
      "metadata": {
        "colab": {
          "base_uri": "https://localhost:8080/",
          "height": 38
        },
        "id": "_kYeUxsxJvmA",
        "outputId": "4c1bd53c-2dba-4b8e-f4da-644e6da4720e"
      },
      "source": [
        "#ejemplo 3\n",
        "from sympy import Symbol,factor\n",
        "x = Symbol('x')\n",
        "factor(x**5 + 15*x**4  - 67*x**3 - 1071*x**2 - 270*x + 10800)"
      ],
      "execution_count": null,
      "outputs": [
        {
          "output_type": "execute_result",
          "data": {
            "text/latex": "$\\displaystyle \\left(x - 8\\right) \\left(x - 3\\right) \\left(x + 5\\right) \\left(x + 6\\right) \\left(x + 15\\right)$",
            "text/plain": [
              "(x - 8)*(x - 3)*(x + 5)*(x + 6)*(x + 15)"
            ]
          },
          "metadata": {},
          "execution_count": 25
        }
      ]
    },
    {
      "cell_type": "markdown",
      "metadata": {
        "id": "xoq8A5ipMdRa"
      },
      "source": [
        "## SymPy’s solvers\n",
        "- https://docs.sympy.org/latest/tutorial/solvers.html\n",
        "- x\\*\\*5 - 15\\*x\\*\\*4  + 85\\*x\\*\\* 3 - 225\\*x\\*\\* 2 + 274\\*x - 120 = 0\n",
        "\n"
      ]
    },
    {
      "cell_type": "markdown",
      "metadata": {
        "id": "UpEjlqXZMk8i"
      },
      "source": [
        "<img src=\"https://raw.githubusercontent.com/gjhernandezp/algorithms/master/SymPyLab/sympylabwolfram5.jpg\" />\n",
        "\n"
      ]
    },
    {
      "cell_type": "code",
      "metadata": {
        "id": "DLzUsS8YMlNK",
        "colab": {
          "base_uri": "https://localhost:8080/",
          "height": 37
        },
        "outputId": "80a2de12-e43e-4fa8-bb2e-1792d33b9333"
      },
      "source": [
        "from sympy import Symbol, solveset, Eq\n",
        "x = Symbol('x')\n",
        "solveset(Eq(x**5 - 15*x**4  + 85*x**3 - 225*x**2 + 274*x - 120, 0), x)\n"
      ],
      "execution_count": null,
      "outputs": [
        {
          "output_type": "execute_result",
          "data": {
            "text/latex": "$\\displaystyle \\left\\{1, 2, 3, 4, 5\\right\\}$",
            "text/plain": [
              "FiniteSet(1, 2, 3, 4, 5)"
            ]
          },
          "metadata": {},
          "execution_count": 9
        }
      ]
    },
    {
      "cell_type": "code",
      "metadata": {
        "colab": {
          "base_uri": "https://localhost:8080/",
          "height": 47
        },
        "id": "ALzYmizCcXvv",
        "outputId": "46e9656d-642f-46b5-816c-97c6bb4e2370"
      },
      "source": [
        "from sympy import Symbol, solveset, Eq, sqrt, pi\n",
        "x = Symbol('x')\n",
        "solveset(Eq(x**2 - (sqrt(2)+pi)*x + (sqrt(2)*pi) , 0), x)\n"
      ],
      "execution_count": null,
      "outputs": [
        {
          "output_type": "execute_result",
          "data": {
            "text/latex": "$\\displaystyle \\left\\{\\sqrt{2}, \\pi\\right\\}$",
            "text/plain": [
              "FiniteSet(pi, sqrt(2))"
            ]
          },
          "metadata": {},
          "execution_count": 6
        }
      ]
    },
    {
      "cell_type": "markdown",
      "metadata": {
        "id": "L6PIw0QUMhQG"
      },
      "source": [
        "EJEMPLO\n",
        "* $x^5-4x^4-3x^3+17x^2+100x^1-15$\n",
        "\n",
        "<img src=\"https://raw.githubusercontent.com/Dicarvajalb/MetNumUN2021II/main/LAB3/sympy6.png\" />\n",
        "\n",
        "\n"
      ]
    },
    {
      "cell_type": "code",
      "metadata": {
        "colab": {
          "base_uri": "https://localhost:8080/",
          "height": 58
        },
        "id": "eZXc4ZTMNUhX",
        "outputId": "ce586692-b7c6-4a76-91dc-9f10988f2163"
      },
      "source": [
        "from sympy import Symbol, solveset, Eq\n",
        "x = Symbol('x')\n",
        "solveset(Eq(x**5-4*x**4-3*x**3+17*x**2+100*x -15, 0), x).evalf()\n"
      ],
      "execution_count": null,
      "outputs": [
        {
          "output_type": "execute_result",
          "data": {
            "text/latex": "$\\displaystyle \\left\\{0.146465146222527, -1.79075490662505 - 1.67203720839678 i, -1.79075490662505 + 1.67203720839678 i, 3.71752233351378 - 1.80049799473399 i, 3.71752233351378 + 1.80049799473399 i\\right\\}$",
            "text/plain": [
              "FiniteSet(0.146465146222527, -1.79075490662505 - 1.67203720839678*I, -1.79075490662505 + 1.67203720839678*I, 3.71752233351378 - 1.80049799473399*I, 3.71752233351378 + 1.80049799473399*I)"
            ]
          },
          "metadata": {},
          "execution_count": 20
        }
      ]
    },
    {
      "cell_type": "markdown",
      "metadata": {
        "id": "OtsxSwPmV3Vs"
      },
      "source": [
        "Nuestro ejemplo\n",
        "## SymPy’s Symbolic and Numercical Complex Evaluations\n",
        "- https://docs.sympy.org/latest/modules/evalf.html](https://)\n",
        "- x = 2x1 + I*x2,y = y1 + I*y2, z = 3z1 + I*z2, x*2y*9z"
      ]
    },
    {
      "cell_type": "markdown",
      "metadata": {
        "id": "XxWt-AcaZxdp"
      },
      "source": [
        "<img src=\"https://raw.githubusercontent.com/Dicarvajalb/MetNumUN2021II/main/LAB3/sympy5.jpeg\" />"
      ]
    },
    {
      "cell_type": "code",
      "metadata": {
        "id": "ENDQbfLGV31r",
        "colab": {
          "base_uri": "https://localhost:8080/"
        },
        "outputId": "5e51ca21-084f-43be-f9cf-d61068a3e0e2"
      },
      "source": [
        "from sympy import *\n",
        "x1, x2, y1, y2, z1, z2 = symbols(\"x1 x2 y1 y2 z1 z2\", real=True)  \n",
        "x = 2*x1 + I*x2\n",
        "y = y1 + I*y2\n",
        "z = 3*z1 + I*z2\n",
        "\n",
        "print(x*(2*y)*(9*z))\n",
        "print(expand(x*y*z))\n",
        "print(expand((x*y)*z))\n",
        "print(expand(x*(y*z)))\n",
        "\n",
        "w=N(1/(pi + I), 20)\n",
        "print('w=',w)"
      ],
      "execution_count": null,
      "outputs": [
        {
          "output_type": "stream",
          "name": "stdout",
          "text": [
            "(2*x1 + I*x2)*(2*y1 + 2*I*y2)*(27*z1 + 9*I*z2)\n",
            "6*x1*y1*z1 + 2*I*x1*y1*z2 + 6*I*x1*y2*z1 - 2*x1*y2*z2 + 3*I*x2*y1*z1 - x2*y1*z2 - 3*x2*y2*z1 - I*x2*y2*z2\n",
            "6*x1*y1*z1 + 2*I*x1*y1*z2 + 6*I*x1*y2*z1 - 2*x1*y2*z2 + 3*I*x2*y1*z1 - x2*y1*z2 - 3*x2*y2*z1 - I*x2*y2*z2\n",
            "6*x1*y1*z1 + 2*I*x1*y1*z2 + 6*I*x1*y2*z1 - 2*x1*y2*z2 + 3*I*x2*y1*z1 - x2*y1*z2 - 3*x2*y2*z1 - I*x2*y2*z2\n",
            "w= 0.28902548222223624241 - 0.091999668350375232456*I\n"
          ]
        }
      ]
    },
    {
      "cell_type": "markdown",
      "metadata": {
        "id": "eaqIgmnkPNVT"
      },
      "source": [
        "Nuestro ejemplo\n",
        "## Wolfram alpha answers quastion in natural languaje\n",
        "- What is the population in Universidad Nacional de Colombia sede bogotá?\n",
        "\n",
        "<img src=\"https://raw.githubusercontent.com/Dicarvajalb/MetNumUN2021II/main/LAB3/sympy4.jpeg\" />"
      ]
    }
  ]
}